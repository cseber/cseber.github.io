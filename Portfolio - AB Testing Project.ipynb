{
 "cells": [
  {
   "cell_type": "markdown",
   "metadata": {},
   "source": [
    "# Kickstarter project (A/B testing)"
   ]
  },
  {
   "cell_type": "markdown",
   "metadata": {},
   "source": [
    "It is incredible to see how kickstarter has allowed so many people to to complete their dream project. Kickstarter is a crowdfunding platform that has helped projects raise over 3.5 billion dollars since 2009. However, despite the many people who have created successful kickstarter campaigns, the majority of campaigns are considered failures. A campaign is considered a failure if it does not meet 100% of its goal. In fact, many campaigns don't even meet 10% of their goal. See the visualizations below."
   ]
  },
  {
   "cell_type": "code",
   "execution_count": 258,
   "metadata": {},
   "outputs": [],
   "source": [
    "import numpy as np\n",
    "import pandas as pd\n",
    "import matplotlib.pyplot as plt\n",
    "import seaborn as sns\n",
    "import scipy.stats as stats\n",
    "%matplotlib inline"
   ]
  },
  {
   "cell_type": "code",
   "execution_count": 142,
   "metadata": {},
   "outputs": [],
   "source": [
    "campaigns = pd.read_csv('ks-projects-201801.csv')\n",
    "campaigns['% funded'] = campaigns['usd_pledged_real']/campaigns['usd_goal_real']"
   ]
  },
  {
   "cell_type": "code",
   "execution_count": 143,
   "metadata": {},
   "outputs": [
    {
     "data": {
      "text/html": [
       "<div>\n",
       "<style scoped>\n",
       "    .dataframe tbody tr th:only-of-type {\n",
       "        vertical-align: middle;\n",
       "    }\n",
       "\n",
       "    .dataframe tbody tr th {\n",
       "        vertical-align: top;\n",
       "    }\n",
       "\n",
       "    .dataframe thead th {\n",
       "        text-align: right;\n",
       "    }\n",
       "</style>\n",
       "<table border=\"1\" class=\"dataframe\">\n",
       "  <thead>\n",
       "    <tr style=\"text-align: right;\">\n",
       "      <th></th>\n",
       "      <th>ID</th>\n",
       "      <th>name</th>\n",
       "      <th>category</th>\n",
       "      <th>main_category</th>\n",
       "      <th>currency</th>\n",
       "      <th>deadline</th>\n",
       "      <th>goal</th>\n",
       "      <th>launched</th>\n",
       "      <th>pledged</th>\n",
       "      <th>state</th>\n",
       "      <th>backers</th>\n",
       "      <th>country</th>\n",
       "      <th>usd pledged</th>\n",
       "      <th>usd_pledged_real</th>\n",
       "      <th>usd_goal_real</th>\n",
       "      <th>% funded</th>\n",
       "    </tr>\n",
       "  </thead>\n",
       "  <tbody>\n",
       "    <tr>\n",
       "      <td>0</td>\n",
       "      <td>1000002330</td>\n",
       "      <td>The Songs of Adelaide &amp; Abullah</td>\n",
       "      <td>Poetry</td>\n",
       "      <td>Publishing</td>\n",
       "      <td>GBP</td>\n",
       "      <td>2015-10-09</td>\n",
       "      <td>1000.0</td>\n",
       "      <td>2015-08-11 12:12:28</td>\n",
       "      <td>0.0</td>\n",
       "      <td>failed</td>\n",
       "      <td>0</td>\n",
       "      <td>GB</td>\n",
       "      <td>0.0</td>\n",
       "      <td>0.0</td>\n",
       "      <td>1533.95</td>\n",
       "      <td>0.000000</td>\n",
       "    </tr>\n",
       "    <tr>\n",
       "      <td>1</td>\n",
       "      <td>1000003930</td>\n",
       "      <td>Greeting From Earth: ZGAC Arts Capsule For ET</td>\n",
       "      <td>Narrative Film</td>\n",
       "      <td>Film &amp; Video</td>\n",
       "      <td>USD</td>\n",
       "      <td>2017-11-01</td>\n",
       "      <td>30000.0</td>\n",
       "      <td>2017-09-02 04:43:57</td>\n",
       "      <td>2421.0</td>\n",
       "      <td>failed</td>\n",
       "      <td>15</td>\n",
       "      <td>US</td>\n",
       "      <td>100.0</td>\n",
       "      <td>2421.0</td>\n",
       "      <td>30000.00</td>\n",
       "      <td>0.080700</td>\n",
       "    </tr>\n",
       "    <tr>\n",
       "      <td>2</td>\n",
       "      <td>1000004038</td>\n",
       "      <td>Where is Hank?</td>\n",
       "      <td>Narrative Film</td>\n",
       "      <td>Film &amp; Video</td>\n",
       "      <td>USD</td>\n",
       "      <td>2013-02-26</td>\n",
       "      <td>45000.0</td>\n",
       "      <td>2013-01-12 00:20:50</td>\n",
       "      <td>220.0</td>\n",
       "      <td>failed</td>\n",
       "      <td>3</td>\n",
       "      <td>US</td>\n",
       "      <td>220.0</td>\n",
       "      <td>220.0</td>\n",
       "      <td>45000.00</td>\n",
       "      <td>0.004889</td>\n",
       "    </tr>\n",
       "    <tr>\n",
       "      <td>3</td>\n",
       "      <td>1000007540</td>\n",
       "      <td>ToshiCapital Rekordz Needs Help to Complete Album</td>\n",
       "      <td>Music</td>\n",
       "      <td>Music</td>\n",
       "      <td>USD</td>\n",
       "      <td>2012-04-16</td>\n",
       "      <td>5000.0</td>\n",
       "      <td>2012-03-17 03:24:11</td>\n",
       "      <td>1.0</td>\n",
       "      <td>failed</td>\n",
       "      <td>1</td>\n",
       "      <td>US</td>\n",
       "      <td>1.0</td>\n",
       "      <td>1.0</td>\n",
       "      <td>5000.00</td>\n",
       "      <td>0.000200</td>\n",
       "    </tr>\n",
       "    <tr>\n",
       "      <td>4</td>\n",
       "      <td>1000011046</td>\n",
       "      <td>Community Film Project: The Art of Neighborhoo...</td>\n",
       "      <td>Film &amp; Video</td>\n",
       "      <td>Film &amp; Video</td>\n",
       "      <td>USD</td>\n",
       "      <td>2015-08-29</td>\n",
       "      <td>19500.0</td>\n",
       "      <td>2015-07-04 08:35:03</td>\n",
       "      <td>1283.0</td>\n",
       "      <td>canceled</td>\n",
       "      <td>14</td>\n",
       "      <td>US</td>\n",
       "      <td>1283.0</td>\n",
       "      <td>1283.0</td>\n",
       "      <td>19500.00</td>\n",
       "      <td>0.065795</td>\n",
       "    </tr>\n",
       "  </tbody>\n",
       "</table>\n",
       "</div>"
      ],
      "text/plain": [
       "           ID                                               name  \\\n",
       "0  1000002330                    The Songs of Adelaide & Abullah   \n",
       "1  1000003930      Greeting From Earth: ZGAC Arts Capsule For ET   \n",
       "2  1000004038                                     Where is Hank?   \n",
       "3  1000007540  ToshiCapital Rekordz Needs Help to Complete Album   \n",
       "4  1000011046  Community Film Project: The Art of Neighborhoo...   \n",
       "\n",
       "         category main_category currency    deadline     goal  \\\n",
       "0          Poetry    Publishing      GBP  2015-10-09   1000.0   \n",
       "1  Narrative Film  Film & Video      USD  2017-11-01  30000.0   \n",
       "2  Narrative Film  Film & Video      USD  2013-02-26  45000.0   \n",
       "3           Music         Music      USD  2012-04-16   5000.0   \n",
       "4    Film & Video  Film & Video      USD  2015-08-29  19500.0   \n",
       "\n",
       "              launched  pledged     state  backers country  usd pledged  \\\n",
       "0  2015-08-11 12:12:28      0.0    failed        0      GB          0.0   \n",
       "1  2017-09-02 04:43:57   2421.0    failed       15      US        100.0   \n",
       "2  2013-01-12 00:20:50    220.0    failed        3      US        220.0   \n",
       "3  2012-03-17 03:24:11      1.0    failed        1      US          1.0   \n",
       "4  2015-07-04 08:35:03   1283.0  canceled       14      US       1283.0   \n",
       "\n",
       "   usd_pledged_real  usd_goal_real  % funded  \n",
       "0               0.0        1533.95  0.000000  \n",
       "1            2421.0       30000.00  0.080700  \n",
       "2             220.0       45000.00  0.004889  \n",
       "3               1.0        5000.00  0.000200  \n",
       "4            1283.0       19500.00  0.065795  "
      ]
     },
     "execution_count": 143,
     "metadata": {},
     "output_type": "execute_result"
    }
   ],
   "source": [
    "campaigns.head()"
   ]
  },
  {
   "cell_type": "code",
   "execution_count": 190,
   "metadata": {},
   "outputs": [
    {
     "data": {
      "image/png": "[encoded data removed]",
      "text/plain": [
       "<Figure size 1800x1080 with 2 Axes>"
      ]
     },
     "metadata": {
      "needs_background": "light"
     },
     "output_type": "display_data"
    }
   ],
   "source": [
    "success_and_failures = campaigns[(campaigns['state'] == 'successful')|(campaigns['state'] == 'failed')]\n",
    "\n",
    "plt.figure(figsize=(25,15))\n",
    "plt.subplots_adjust(hspace=.5)\n",
    "\n",
    "plt.subplot(2,2,1)\n",
    "sns.countplot(success_and_failures['state'])\n",
    "plt.xlabel(\"\")\n",
    "plt.xticks(fontsize=16)\n",
    "plt.ylabel('Count', fontsize=20, labelpad=20)\n",
    "plt.yticks(fontsize=14)\n",
    "plt.title('Failed vs. Successful Campaigns', fontsize=22, pad=15)\n",
    "\n",
    "plt.subplot(2,2,3)\n",
    "plt.hist(success_and_failures[success_and_failures['% funded'] < 2]['% funded'], color='C2', bins=10, rwidth=.95)\n",
    "plt.xlabel(\"Percent funded\", fontsize=16)\n",
    "plt.xticks(fontsize=13)\n",
    "plt.ylabel('Count', fontsize=20, labelpad=20)\n",
    "plt.yticks(fontsize=14)\n",
    "plt.title('Percent Funded Distribution For All Campaigns', fontsize=22, pad=15)\n",
    "\n",
    "plt.show()"
   ]
  },
  {
   "cell_type": "markdown",
   "metadata": {},
   "source": [
    "## Plot Summaries"
   ]
  },
  {
   "cell_type": "markdown",
   "metadata": {},
   "source": [
    "1. There are significantly more failed campaigns than successful campaigns.\n",
    "    - Total FAILED campaign count is 197719.\n",
    "    - Total SUCCESSFUL campaign count is 133956."
   ]
  },
  {
   "cell_type": "markdown",
   "metadata": {},
   "source": [
    "2. Most campaigns did not meet their goal.\n",
    "    - 52% of campaigns met 25% of their goal or less\n",
    "    - 60% of campaigns met less than 100% of their goal.\n",
    "    - 40% of campaigns met or exceeded their goal."
   ]
  },
  {
   "cell_type": "markdown",
   "metadata": {},
   "source": [
    "## Why are so many campaigns failing?"
   ]
  },
  {
   "cell_type": "markdown",
   "metadata": {},
   "source": [
    "It is clear by both visulations that not only are there many failed campaigns, but many of the failed campaigns do not even meet 25% of their goal. So how can we decrease the number of failed campaigns? How can we increase the average percentage funded? A person can have the best idea for a project, and put together the most compelling kickstarteer campaign. However, the best projects will certainly not receive funding if the best campaign practices are not implemented. One important decision that must be made is campaign category. I believe campaign category can postively or negative impact the success of a campaign. Let's look at the correlation between the campaign categories and success."
   ]
  },
  {
   "cell_type": "code",
   "execution_count": 257,
   "metadata": {},
   "outputs": [
    {
     "data": {
      "text/html": [
       "<div>\n",
       "<style scoped>\n",
       "    .dataframe tbody tr th:only-of-type {\n",
       "        vertical-align: middle;\n",
       "    }\n",
       "\n",
       "    .dataframe tbody tr th {\n",
       "        vertical-align: top;\n",
       "    }\n",
       "\n",
       "    .dataframe thead th {\n",
       "        text-align: right;\n",
       "    }\n",
       "</style>\n",
       "<table border=\"1\" class=\"dataframe\">\n",
       "  <thead>\n",
       "    <tr style=\"text-align: right;\">\n",
       "      <th>state</th>\n",
       "      <th>failed</th>\n",
       "      <th>successful</th>\n",
       "    </tr>\n",
       "    <tr>\n",
       "      <th>category</th>\n",
       "      <th></th>\n",
       "      <th></th>\n",
       "    </tr>\n",
       "  </thead>\n",
       "  <tbody>\n",
       "    <tr>\n",
       "      <td>Audio</td>\n",
       "      <td>252</td>\n",
       "      <td>111</td>\n",
       "    </tr>\n",
       "    <tr>\n",
       "      <td>Radio &amp; Podcasts</td>\n",
       "      <td>453</td>\n",
       "      <td>394</td>\n",
       "    </tr>\n",
       "  </tbody>\n",
       "</table>\n",
       "</div>"
      ],
      "text/plain": [
       "state             failed  successful\n",
       "category                            \n",
       "Audio                252         111\n",
       "Radio & Podcasts     453         394"
      ]
     },
     "execution_count": 257,
     "metadata": {},
     "output_type": "execute_result"
    }
   ],
   "source": [
    "count_table = pd.crosstab(success_and_failures[success_and_failures['category'].isin(['Audio', 'Radio & Podcasts'])]['category'], success_and_failures[\"state\"])\n",
    "count_table"
   ]
  },
  {
   "cell_type": "code",
   "execution_count": 265,
   "metadata": {},
   "outputs": [
    {
     "name": "stdout",
     "output_type": "stream",
     "text": [
      "The category AUDIO has a 31% success rate\n",
      "The category RADIO & PODCASTS has a 47% success rate\n"
     ]
    }
   ],
   "source": [
    "audio_success = success_and_failures[(success_and_failures['category'] == 'Audio') & (success_and_failures['state'] == 'successful')]\n",
    "audio_total = success_and_failures[success_and_failures['category'] == 'Audio']\n",
    "radio_podcasts_success = success_and_failures[(success_and_failures['category'] == 'Radio & Podcasts') & (success_and_failures['state'] == 'successful')]\n",
    "radio_podcasts_total = success_and_failures[success_and_failures['category'] == 'Radio & Podcasts']\n",
    "print('The category AUDIO has a {}% success rate'.format(round(100*len(audio_success)/len(audio_total))))\n",
    "print('The category RADIO & PODCASTS has a {}% success rate'.format(round(100*len(radio_podcasts_success)/len(radio_podcasts_total))))"
   ]
  },
  {
   "cell_type": "code",
   "execution_count": 259,
   "metadata": {},
   "outputs": [
    {
     "data": {
      "text/plain": [
       "Power_divergenceResult(statistic=232.21487603305783, pvalue=4.591173820329813e-50)"
      ]
     },
     "execution_count": 259,
     "metadata": {},
     "output_type": "execute_result"
    }
   ],
   "source": [
    "stats.chisquare(count_table, axis=None)"
   ]
  },
  {
   "cell_type": "markdown",
   "metadata": {},
   "source": [
    "# Hypothesis\n",
    "\n",
    "According to the Chi Square test there is a significant difference in success between the categories AUDIO and RADIO & PODCASTS. But why is there a such a difference in success when the categories are so similar? I believe it is because Audio is a sub-category of journalism. Traditional journalism is becoming less and less popular, while RADIO & PODCASTING is becoming more and more popular."
   ]
  },
  {
   "cell_type": "markdown",
   "metadata": {},
   "source": [
    "# A potential solution"
   ]
  },
  {
   "cell_type": "markdown",
   "metadata": {},
   "source": [
    "I believe a potential solution would be removing the AUDIO category from Journalism, and directing these campaigns to RADIO & PODCASTING."
   ]
  },
  {
   "cell_type": "markdown",
   "metadata": {},
   "source": [
    "# Method for testing"
   ]
  },
  {
   "cell_type": "markdown",
   "metadata": {},
   "source": [
    "We can ask AUDIO campaign creators for permission to recategorize. We can then separate the AUDIO campaigns into two groups. Group 1 will be 'Not recategorized' AUDIO campaigns. Group 2 will be 'recategorized' AUDIO campaigns into RADIO & PODCASTS. A seperate \"recategorized\" variable will be created in order to track the two groups. We can then compare the success rate of the two groups for 30 days. <br>\n",
    "<br>\n",
    "Key Metric - camapaign state (successful or failed)<br>\n",
    "Other important metrics - campaign goal, campaign percentage funded, campaign backers\n",
    "\n",
    "Other than campaign category, the two two groups must be similar. They must share similar goal size, similar country location, etc, etc...."
   ]
  },
  {
   "cell_type": "markdown",
   "metadata": {},
   "source": [
    "# Measure of success after A/B test is performed"
   ]
  },
  {
   "cell_type": "markdown",
   "metadata": {},
   "source": [
    "We will measure the success rate of the two groups using a chi-squared test.\n",
    "\n",
    "#### Outcome 1 - p-value above .05\n",
    "Conclusion - there is no signifcant difference in success between the two groups. Therefore, I would leave it up to the discretion of the campaign creator whether or not they want to rectegorize.\n",
    "\n",
    "#### Outcome 2 - p-value below .05 and success rate of group 1 is greater than group 2\n",
    "conclusion - there is a significant difference in success, however recategorizing seems to negatively affect success. I would recommend not allowing recategorizing in this scenario.\n",
    "\n",
    "#### Outcome 3 - p-value below .05 and success rate of group 2 is greater than group 1\n",
    "conclusion - there is a significant difference in success, and it is from recategorizing. I would recommend all AUDIO campaigns be recategorized into RADIO & PODCASTS in this scenario."
   ]
  },
  {
   "cell_type": "code",
   "execution_count": null,
   "metadata": {},
   "outputs": [],
   "source": []
  }
 ],
 "metadata": {
  "kernelspec": {
   "display_name": "Python 3",
   "language": "python",
   "name": "python3"
  },
  "language_info": {
   "codemirror_mode": {
    "name": "ipython",
    "version": 3
   },
   "file_extension": ".py",
   "mimetype": "text/x-python",
   "name": "python",
   "nbconvert_exporter": "python",
   "pygments_lexer": "ipython3",
   "version": "3.7.3"
  }
 },
 "nbformat": 4,
 "nbformat_minor": 2
}
